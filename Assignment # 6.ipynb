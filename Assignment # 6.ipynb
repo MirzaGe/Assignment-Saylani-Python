{
 "cells": [
  {
   "cell_type": "markdown",
   "metadata": {},
   "source": [
    "## Q1.Define Object Oriented Programming Language?"
   ]
  },
  {
   "cell_type": "markdown",
   "metadata": {},
   "source": [
    "### Object-oriented programming (OOP) refers to a type of computer programming (software design) in which programmers define the data type of a data structure, and also the types of operations (functions) that can be applied to the data structure.\n",
    "\n",
    "### In this way, the data structure becomes an object that includes both data and functions. In addition, programmers can create relationships between one object and another. For example, objects can inherit characteristics from other objects.\n",
    "\n",
    "### The Basic OOP Concepts\n",
    "### If you are new to object-oriented programming languages, you will need to know a few basics before you can get started with code. The following Webopedia definitions will help you better understand object-oriented programming:\n",
    "\n",
    "### Abstraction: The process of picking out (abstracting) common features of objects and procedures.\n",
    "### Class: A category of objects. The class defines all the common properties of the different objects that belong to it.\n",
    "### Encapsulation: The process of combining elements to create a new entity. A procedure is a type of encapsulation because it combines a series of computer instructions.\n",
    "### Information hiding: The process of hiding details of an object or function. Information hiding is a powerful programming technique because it reduces complexity.\n",
    "### Inheritance: a feature that represents the \"is a\" relationship between different classes.\n",
    "### Interface: the languages and codes that the applications use to communicate with each other and with the hardware.\n",
    "### Messaging: Message passing is a form of communication used in parallel programming and object-oriented programming.\n",
    "### Object: a self-contained entity that consists of both data and procedures to manipulate the data.\n",
    "### Polymorphism: A programming language's ability to process objects differently depending on their data type or class.\n",
    "### Procedure: a section of a program that performs a specific task.\n",
    "### Advantages of Object Oriented Programming\n",
    "### One of the principal advantages of object-oriented programming techniques over procedural programming techniques is that they enable programmers to create modules that do not need to be changed when a new type of object is added. A programmer can simply create a new object that inherits many of its features from existing objects. This makes object-oriented programs easier to modify.\n",
    "\n",
    "### OOPL - Object Oriented Programming Languages\n",
    "### An object-oriented programming language (OOPL) is a high-level programming language based on the object-oriented model. To perform object-oriented programming, one needs an object-oriented programming language.  Many modern programming languages are object-oriented, however some older programming languages, such as Pascal, do offer object-oriented versions. Examples of object-oriented programming languages include Java, C++ and Smalltalk."
   ]
  },
  {
   "cell_type": "markdown",
   "metadata": {},
   "source": [
    "## Q2. List down the Benefits of OOP?"
   ]
  },
  {
   "cell_type": "markdown",
   "metadata": {},
   "source": [
    "## Advantages of OOP:\n",
    "\n",
    "### It provides a clear modular structure for programs which makes it good for defining abstract datatypes in which implementation details are hidden\n",
    "### Objects can also be reused within an across applications. The reuse of software also lowers the cost of development. More effort is put into the object-oriented analysis and design, which lowers the overall cost of development.\n",
    "### It makes software easier to maintain. Since the design is modular, part of the system can be updated in case of issues without a need to make large-scale changes\n",
    "### Reuse also enables faster development. Object-oriented programming languages come with rich libraries of objects, and code developed during projects is also reusable in future projects.\n",
    "### It provides a good framework for code libraries where the supplied software components can be easily adapted and modified by the programmer. This is particularly useful for developing graphical user interfaces.\n",
    "### Better Productivity as OOP techniques enforce rules on a programmer that, in the long run, help her get more work done; finished programs work better, have more features and are easier to read and maintain. OOP programmers take new and existing software objects and \"stitch\" them together to make new programs. Because object libraries contain many useful functions, software developers don't have to reinvent the wheel as often; more of their time goes into making the new program."
   ]
  },
  {
   "cell_type": "markdown",
   "metadata": {},
   "source": [
    "## Q3. Differentiate between function and method?"
   ]
  },
  {
   "cell_type": "markdown",
   "metadata": {},
   "source": [
    "### A function is a piece of code that is called by name. It can be passed data to operate on (i.e. the parameters) and can optionally return data (the return value). All data that is passed to a function is explicitly passed.\n",
    "\n",
    "### A method is a piece of code that is called by a name that is associated with an object. In most respects it is identical to a function except for two key differences:\n",
    "\n",
    "### A method is implicitly passed the object on which it was called.\n",
    "### A method is able to operate on data that is contained within the class (remembering that an object is an instance of a class - the class is the definition, the object is an instance of that data)."
   ]
  },
  {
   "cell_type": "markdown",
   "metadata": {},
   "source": [
    "### Question 4:\n",
    "### Define the following terms:\n",
    "### 1. Class\n",
    "### 2. Object\n",
    "### 3. Attribute\n",
    "### 4. Behavior"
   ]
  },
  {
   "cell_type": "markdown",
   "metadata": {},
   "source": [
    "## What is an Object?\n",
    "### An Object represents an entity either physical (box), conceptual (chemical process), or software (list).\n",
    "### An Object is a concept, an abstraction, a thing with sharp boundaries and meaning for an application. It has\n",
    "\n",
    "### Identity - a name\n",
    "### State - determined by the values of its attributes\n",
    "### Behavior - determined by how the object acts or reacts to requests (messages) from other objects\n",
    "### An Object is represented as a rectangle with a underlined name in UML.\n",
    "\n",
    "## What is a Class?\n",
    "### A Class is a description of a group of objects with common properties (attributes), behavior (operations), relationships, and semantics\n",
    "### A class is an abstraction. An object is an instance of a class.\n",
    "\n",
    "### Example of a Class\n",
    "### Class: Course\n",
    "### Properties: Name, Location, Days Offered, Credit Hours, Professor\n",
    "### Behavior: Add Student, Delete Student, Get Course Roster, Determine If Full\n",
    "### A class is represented by a compartmentalized rectangle in UML. It has three sections - Name, Attributes, and Operations. You can show as many or as few of the Attributes and Operations in the diagram. Most of the times for the sake of clarity the Attribute and Operation lists are suppressed.\n",
    "\n",
    "### You start from real world objects - abstract out what you do not care and go through the process of classification of what you care. A Class is the result of this classification. Classes are then used as templates within a software system to create software objects.\n",
    "\n",
    "### What is an Attribute?\n",
    "### An Attribute is a named property of a class. It has a type. It describes the range of values that that property may hold.\n",
    "### What is an Operation (Function)?\n",
    "### An Operation is a service that can be requested from any object of the Class to affect behavior. An Operation can either be a command or a question. A question should never change the state of the object only a command can. The outcome of the Operation depends on the current state of the object."
   ]
  },
  {
   "cell_type": "markdown",
   "metadata": {},
   "source": [
    "### Question 5:\n",
    "### Write a code in python in which create a class named it Car which\n",
    "### have 5 attributes such like (model, color and name etc.) and 3\n",
    "### methods. And create 5 object instance from that class."
   ]
  },
  {
   "cell_type": "code",
   "execution_count": 1,
   "metadata": {},
   "outputs": [],
   "source": [
    "class Car():\n",
    "    def __init__(self, brand, name, color, model, seatingCapacity):        \n",
    "        #Attributes >>>>>>>>>>>>>>>>>>>>>>>>>>>\n",
    "        self.brand = brand\n",
    "        self.name = name\n",
    "        self.color = color\n",
    "        self.model = model\n",
    "        self.seatingCapacity = seatingCapacity\n",
    "        #####################################\n",
    "        \n",
    "        #Methods>>>>>>>>>>>>>>>>>>>>>>>>>>>>>>>>\n",
    "    def CarDescription(self):\n",
    "        print(f\"The Brand of the car is {self.brand}\")\n",
    "        print(f\"The Name of the car is {self.name}\")\n",
    "        print(f\"The Color of the car is {self.color}\")\n",
    "        print(f\"The Model of the car is {self.model}\")\n",
    "        print(f\"The Seating Capacity of the car is {self.seatingCapacity}\")\n",
    "            \n",
    "    def moving(self):\n",
    "        print(f\"{self.name} is moving with speed\")\n",
    "            \n",
    "    def Applying_break(self):\n",
    "        print(f\"{self.name} is applying breakes\")\n",
    "        ######################################################\n",
    "        ######################################################\n",
    "        \n",
    "#Objects>>>>>>>>>>>>>>>>>>>>>>>>>>>>>>>>>>>>>>>>>>>\n",
    "car1 = Car('Honda','Civic','Black','2019','4')\n",
    "car2 = Car('Toyota','Corolla','White','2018','4')\n",
    "car3 = Car('Suzuki','Cultus','Blue','2014','4')\n",
    "car4 = Car('Honda','Vesel','Gray','2019','4')\n",
    "car5 = Car('Toyota','Prius','Black','2019','4')\n",
    "#####################################################"
   ]
  },
  {
   "cell_type": "code",
   "execution_count": 2,
   "metadata": {},
   "outputs": [
    {
     "name": "stdout",
     "output_type": "stream",
     "text": [
      "The Brand of the car is Honda\n",
      "The Name of the car is Civic\n",
      "The Color of the car is Black\n",
      "The Model of the car is 2019\n",
      "The Seating Capacity of the car is 4\n",
      "Civic is moving with speed\n",
      "Civic is applying breakes\n"
     ]
    }
   ],
   "source": [
    "car1.CarDescription()\n",
    "car1.moving()\n",
    "car1.Applying_break()"
   ]
  },
  {
   "cell_type": "code",
   "execution_count": 3,
   "metadata": {},
   "outputs": [
    {
     "name": "stdout",
     "output_type": "stream",
     "text": [
      "The Brand of the car is Toyota\n",
      "The Name of the car is Corolla\n",
      "The Color of the car is White\n",
      "The Model of the car is 2018\n",
      "The Seating Capacity of the car is 4\n",
      "Corolla is moving with speed\n",
      "Corolla is applying breakes\n"
     ]
    }
   ],
   "source": [
    "car2.CarDescription()\n",
    "car2.moving()\n",
    "car2.Applying_break()"
   ]
  },
  {
   "cell_type": "code",
   "execution_count": 4,
   "metadata": {},
   "outputs": [
    {
     "name": "stdout",
     "output_type": "stream",
     "text": [
      "The Brand of the car is Suzuki\n",
      "The Name of the car is Cultus\n",
      "The Color of the car is Blue\n",
      "The Model of the car is 2014\n",
      "The Seating Capacity of the car is 4\n",
      "Cultus is moving with speed\n",
      "Cultus is applying breakes\n"
     ]
    }
   ],
   "source": [
    "car3.CarDescription()\n",
    "car3.moving()\n",
    "car3.Applying_break()"
   ]
  },
  {
   "cell_type": "code",
   "execution_count": 5,
   "metadata": {},
   "outputs": [
    {
     "name": "stdout",
     "output_type": "stream",
     "text": [
      "The Brand of the car is Honda\n",
      "The Name of the car is Vesel\n",
      "The Color of the car is Gray\n",
      "The Model of the car is 2019\n",
      "The Seating Capacity of the car is 4\n",
      "Vesel is moving with speed\n",
      "Vesel is applying breakes\n"
     ]
    }
   ],
   "source": [
    "car4.CarDescription()\n",
    "car4.moving()\n",
    "car4.Applying_break()"
   ]
  },
  {
   "cell_type": "code",
   "execution_count": 6,
   "metadata": {},
   "outputs": [
    {
     "name": "stdout",
     "output_type": "stream",
     "text": [
      "The Brand of the car is Toyota\n",
      "The Name of the car is Prius\n",
      "The Color of the car is Black\n",
      "The Model of the car is 2019\n",
      "The Seating Capacity of the car is 4\n",
      "Prius is moving with speed\n",
      "Prius is applying breakes\n"
     ]
    }
   ],
   "source": [
    "car5.CarDescription()\n",
    "car5.moving()\n",
    "car5.Applying_break()"
   ]
  },
  {
   "cell_type": "code",
   "execution_count": null,
   "metadata": {},
   "outputs": [],
   "source": []
  }
 ],
 "metadata": {
  "kernelspec": {
   "display_name": "Python 3",
   "language": "python",
   "name": "python3"
  },
  "language_info": {
   "codemirror_mode": {
    "name": "ipython",
    "version": 3
   },
   "file_extension": ".py",
   "mimetype": "text/x-python",
   "name": "python",
   "nbconvert_exporter": "python",
   "pygments_lexer": "ipython3",
   "version": "3.7.4"
  }
 },
 "nbformat": 4,
 "nbformat_minor": 2
}
