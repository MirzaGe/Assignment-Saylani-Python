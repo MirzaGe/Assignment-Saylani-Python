{
 "cells": [
  {
   "cell_type": "code",
   "execution_count": null,
   "metadata": {},
   "outputs": [],
   "source": [
    "# Make a calculator using Python with addition , subtraction , multiplication ,\n",
    "# division and power."
   ]
  },
  {
   "cell_type": "code",
   "execution_count": 2,
   "metadata": {},
   "outputs": [
    {
     "name": "stdout",
     "output_type": "stream",
     "text": [
      "Select operation.\n",
      "1.Add\n",
      "2.Subtract\n",
      "3.Multiply\n",
      "4.Divide\n",
      "Enter choice(1/2/3/4): 3\n",
      "Enter first number: 5\n",
      "Enter second number: 5\n",
      "5.0 * 5.0 = 25.0\n"
     ]
    }
   ],
   "source": [
    "# Program make a simple calculator\n",
    "# This function adds two numbers \n",
    "def add(x, y):\n",
    "   return x + y\n",
    "# This function subtracts two numbers \n",
    "def subtract(x, y):\n",
    "   return x - y\n",
    "# This function multiplies two numbers\n",
    "def multiply(x, y):\n",
    "   return x * y\n",
    "# This function divides two numbers\n",
    "def divide(x, y):\n",
    "   return x / y\n",
    "print(\"Select operation.\")\n",
    "print(\"1.Add\")\n",
    "print(\"2.Subtract\")\n",
    "print(\"3.Multiply\")\n",
    "print(\"4.Divide\")\n",
    "# Take input from the user \n",
    "choice = input(\"Enter choice(1/2/3/4): \")\n",
    "num1 = float(input(\"Enter first number: \"))\n",
    "num2 = float(input(\"Enter second number: \"))\n",
    "if choice == '1':\n",
    "   print(num1,\"+\",num2,\"=\", add(num1,num2))\n",
    "elif choice == '2':\n",
    "   print(num1,\"-\",num2,\"=\", subtract(num1,num2))\n",
    "elif choice == '3':\n",
    "   print(num1,\"*\",num2,\"=\", multiply(num1,num2))\n",
    "elif choice == '4':\n",
    "   print(num1,\"/\",num2,\"=\", divide(num1,num2))\n",
    "else:\n",
    "   print(\"Invalid input\")"
   ]
  },
  {
   "cell_type": "code",
   "execution_count": null,
   "metadata": {},
   "outputs": [],
   "source": []
  },
  {
   "cell_type": "code",
   "execution_count": null,
   "metadata": {},
   "outputs": [],
   "source": [
    "# Write a program to check if there is any numeric value in list using for loop"
   ]
  },
  {
   "cell_type": "code",
   "execution_count": 3,
   "metadata": {},
   "outputs": [
    {
     "name": "stdout",
     "output_type": "stream",
     "text": [
      "Checking if 4 exists in list ( using set() + in) : \n",
      "Element Exists\n",
      "Checking if 4 exists in list ( using sort() + bisect_left() ) : \n",
      "Element Exists\n"
     ]
    }
   ],
   "source": [
    "# Python code to demonstrate \n",
    "# checking of element existence \n",
    "# using set() + in \n",
    "# using sort() + bisect_left() \n",
    "from bisect import bisect_left \n",
    "\n",
    "# Initializing list \n",
    "test_list_set = [ 1, 6, 3, 5, 3, 4 ] \n",
    "test_list_bisect = [ 1, 6, 3, 5, 3, 4 ] \n",
    "\n",
    "print(\"Checking if 4 exists in list ( using set() + in) : \") \n",
    "\n",
    "# Checking if 4 exists in list \n",
    "# using set() + in \n",
    "test_list_set = set(test_list_set) \n",
    "if 4 in test_list_set : \n",
    "\tprint (\"Element Exists\") \n",
    "\n",
    "print(\"Checking if 4 exists in list ( using sort() + bisect_left() ) : \") \n",
    "\n",
    "# Checking if 4 exists in list \n",
    "# using sort() + bisect_left() \n",
    "test_list_bisect.sort() \n",
    "if bisect_left(test_list_bisect, 4): \n",
    "\tprint (\"Element Exists\") \n"
   ]
  },
  {
   "cell_type": "code",
   "execution_count": null,
   "metadata": {},
   "outputs": [],
   "source": []
  },
  {
   "cell_type": "code",
   "execution_count": 4,
   "metadata": {},
   "outputs": [
    {
     "name": "stdout",
     "output_type": "stream",
     "text": [
      "{0: 10, 1: 20}\n",
      "{0: 10, 1: 20, 2: 30}\n"
     ]
    }
   ],
   "source": [
    "# Write a Python script to add a key to a dictionary\n",
    "d = {0:10, 1:20}\n",
    "print(d)\n",
    "d.update({2:30})\n",
    "print(d)\n"
   ]
  },
  {
   "cell_type": "code",
   "execution_count": 5,
   "metadata": {},
   "outputs": [
    {
     "name": "stdout",
     "output_type": "stream",
     "text": [
      "Sum : 600\n"
     ]
    }
   ],
   "source": [
    "# Write a Python program to sum all the numeric items in a dictionary\n",
    "# Python3 Program to find sum of \n",
    "# all items in a Dictionary \n",
    "\n",
    "# Function to print sum \n",
    "def returnSum(myDict): \n",
    "\t\n",
    "\tsum = 0\n",
    "\tfor i in myDict: \n",
    "\t\tsum = sum + myDict[i] \n",
    "\t\n",
    "\treturn sum\n",
    "\n",
    "# Driver Function \n",
    "dict = {'a': 100, 'b':200, 'c':300} \n",
    "print(\"Sum :\", returnSum(dict)) \n"
   ]
  },
  {
   "cell_type": "code",
   "execution_count": 6,
   "metadata": {},
   "outputs": [
    {
     "name": "stdout",
     "output_type": "stream",
     "text": [
      "[20, 30, -20, 60]\n"
     ]
    }
   ],
   "source": [
    "# Write a program to identify duplicate values from list\n",
    "# Python program to print \n",
    "# duplicates from a list \n",
    "# of integers \n",
    "def Repeat(x): \n",
    "\t_size = len(x) \n",
    "\trepeated = [] \n",
    "\tfor i in range(_size): \n",
    "\t\tk = i + 1\n",
    "\t\tfor j in range(k, _size): \n",
    "\t\t\tif x[i] == x[j] and x[i] not in repeated: \n",
    "\t\t\t\trepeated.append(x[i]) \n",
    "\treturn repeated \n",
    "\n",
    "# Driver Code \n",
    "list1 = [10, 20, 30, 20, 20, 30, 40, \n",
    "\t\t50, -20, 60, 60, -20, -20] \n",
    "print (Repeat(list1)) \n",
    "\t\n",
    "# This code is contributed \n",
    "# by Sandeep_anand \n"
   ]
  },
  {
   "cell_type": "code",
   "execution_count": 7,
   "metadata": {},
   "outputs": [
    {
     "name": "stdout",
     "output_type": "stream",
     "text": [
      "Key is present in the dictionary\n",
      "Key is not present in the dictionary\n"
     ]
    }
   ],
   "source": [
    "# Write a Python script to check if a given key already exists in a dictionary\n",
    "d = {1: 10, 2: 20, 3: 30, 4: 40, 5: 50, 6: 60}\n",
    "def is_key_present(x):\n",
    "  if x in d:\n",
    "      print('Key is present in the dictionary')\n",
    "  else:\n",
    "      print('Key is not present in the dictionary')\n",
    "is_key_present(5)\n",
    "is_key_present(9)\n"
   ]
  },
  {
   "cell_type": "code",
   "execution_count": null,
   "metadata": {},
   "outputs": [],
   "source": []
  }
 ],
 "metadata": {
  "kernelspec": {
   "display_name": "Python 3",
   "language": "python",
   "name": "python3"
  },
  "language_info": {
   "codemirror_mode": {
    "name": "ipython",
    "version": 3
   },
   "file_extension": ".py",
   "mimetype": "text/x-python",
   "name": "python",
   "nbconvert_exporter": "python",
   "pygments_lexer": "ipython3",
   "version": "3.7.4"
  }
 },
 "nbformat": 4,
 "nbformat_minor": 2
}
